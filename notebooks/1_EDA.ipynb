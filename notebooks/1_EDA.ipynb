{
 "cells": [
  {
   "cell_type": "markdown",
   "id": "92b3b2a7",
   "metadata": {},
   "source": [
    "### **Análisis Exploratorio de Datos - Precio de las tortilla en México 2007 - 2024**"
   ]
  },
  {
   "cell_type": "code",
   "execution_count": null,
   "id": "b2bd1931",
   "metadata": {
    "vscode": {
     "languageId": "plaintext"
    }
   },
   "outputs": [],
   "source": []
  }
 ],
 "metadata": {
  "language_info": {
   "name": "python"
  }
 },
 "nbformat": 4,
 "nbformat_minor": 5
}
